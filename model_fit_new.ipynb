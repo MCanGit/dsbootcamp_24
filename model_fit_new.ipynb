{
 "cells": [
  {
   "cell_type": "code",
   "execution_count": 1,
   "metadata": {},
   "outputs": [],
   "source": [
    "import numpy as np\n",
    "import pandas as pd\n",
    "import matplotlib.pyplot as plt\n",
    "import seaborn as sns\n",
    "from sklearn.svm import SVC"
   ]
  },
  {
   "cell_type": "code",
   "execution_count": 2,
   "metadata": {},
   "outputs": [],
   "source": [
    "keep_data_encoded = pd.read_csv(r\"C:\\Users\\mjcanudo\\Documents\\Nova\\ML\\Project2\\datasets\\keep_data_enc.csv\", index_col='Cust_ID')\n",
    "all_data_encoded = pd.read_csv(r\"C:\\Users\\mjcanudo\\Documents\\Nova\\ML\\Project2\\datasets\\all_data_enc.csv\", index_col='Cust_ID')\n",
    "\n",
    "keep_data_encoded_scaled =  pd.read_csv(r\"C:\\Users\\mjcanudo\\Documents\\Nova\\ML\\Project2\\datasets\\keep_data_scl.csv\", index_col='Cust_ID')\n",
    "all_data_encoded_scaled = pd.read_csv(r\"C:\\Users\\mjcanudo\\Documents\\Nova\\ML\\Project2\\datasets\\all_data_scl.csv\", index_col='Cust_ID')"
   ]
  },
  {
   "cell_type": "code",
   "execution_count": null,
   "metadata": {},
   "outputs": [],
   "source": [
    "all_data_encoded.info()"
   ]
  },
  {
   "cell_type": "code",
   "execution_count": 3,
   "metadata": {},
   "outputs": [],
   "source": [
    "X_keep_svm = keep_data_encoded_scaled.drop(columns=\"Buy_product\").copy()\n",
    "y_keep_svm = keep_data_encoded_scaled[\"Buy_product\"].copy()\n",
    "\n",
    "X_all_svm = all_data_encoded_scaled.drop(columns=\"Buy_product\").copy()\n",
    "y_all_svm = all_data_encoded_scaled[\"Buy_product\"].copy()"
   ]
  },
  {
   "cell_type": "code",
   "execution_count": 4,
   "metadata": {},
   "outputs": [],
   "source": [
    "from sklearn.metrics import f1_score\n",
    "from sklearn.model_selection import StratifiedKFold\n",
    "from sklearn.model_selection import GridSearchCV\n",
    "from sklearn.preprocessing import MinMaxScaler\n"
   ]
  },
  {
   "cell_type": "code",
   "execution_count": null,
   "metadata": {},
   "outputs": [],
   "source": [
    "param_grid_svm_rbf = {'C': [0.1, 1, 10, 100, 1000],  \n",
    "              'gamma': [7, 5, 3, 1, 0.5, 0.1,], \n",
    "              'kernel': ['rbf']}\n",
    "\n",
    "grid_search = GridSearchCV(SVC(),\n",
    "                        param_grid_svm_rbf,\n",
    "                        scoring = 'f1',\n",
    "                        return_train_score = True,\n",
    "                        cv = 5,\n",
    "                        verbose=1)"
   ]
  },
  {
   "cell_type": "code",
   "execution_count": null,
   "metadata": {},
   "outputs": [],
   "source": [
    "grid_search.fit(X_keep_svm, y_keep_svm)\n",
    "\n",
    "# Print the best hyperparameters and corresponding score\n",
    "print(\"Best Hyperparameters: \", grid_search.best_params_)\n",
    "print(\"Best Score: \", grid_search.best_score_)"
   ]
  },
  {
   "cell_type": "code",
   "execution_count": null,
   "metadata": {},
   "outputs": [],
   "source": [
    "grid_search.fit(X_all_svm, y_all_svm)\n",
    "\n",
    "# Print the best hyperparameters and corresponding score\n",
    "print(\"Best Hyperparameters: \", grid_search.best_params_)\n",
    "print(\"Best Score: \", grid_search.best_score_)"
   ]
  },
  {
   "cell_type": "code",
   "execution_count": 5,
   "metadata": {},
   "outputs": [],
   "source": [
    "def select_best_models(data, model):\n",
    "    skf = StratifiedKFold(n_splits = 5, random_state = 99, shuffle = True)\n",
    "    X = data.drop('Buy_product', axis = 1)\n",
    "    y = data['Buy_product'].copy()\n",
    "\n",
    "    score_train, score_val = [],[]\n",
    "\n",
    "    # perform the cross-validation\n",
    "    for train_index, val_index in skf.split(X,y):\n",
    "        X_train, X_val = X.iloc[train_index], X.iloc[val_index]\n",
    "        y_train, y_val = y.iloc[train_index], y.iloc[val_index]\n",
    "\n",
    "        # Scale the data\n",
    "        scaler = MinMaxScaler().fit(X_train)\n",
    "        X_train = scaler.transform(X_train)\n",
    "        X_val = scaler.transform(X_val)\n",
    "\n",
    "        # Apply model\n",
    "        model.fit(X_train, y_train)\n",
    "        predictions_train = model.predict(X_train)\n",
    "        predictions_val = model.predict(X_val)\n",
    "        score_train.append(f1_score(y_train, predictions_train))\n",
    "        score_val.append(f1_score(y_val, predictions_val))\n",
    "\n",
    "    avg_train = round(np.mean(score_train),3)\n",
    "    avg_val = round(np.mean(score_val),3)\n",
    "    std_train = round(np.std(score_train),2)\n",
    "    std_val = round(np.std(score_val),2)\n",
    "\n",
    "    return avg_train, std_train, avg_val, std_val"
   ]
  },
  {
   "cell_type": "code",
   "execution_count": 6,
   "metadata": {},
   "outputs": [],
   "source": [
    "def show_results(df, data, *args):\n",
    "    count = 0\n",
    "    # for each instance of model passed as argument\n",
    "    for arg in args:\n",
    "        avg_train, std_train, avg_val, std_val = select_best_models(data, arg)\n",
    "        # store the results in the right row\n",
    "        df.iloc[count] = str(avg_train) + '+/-' + str(std_train), str(avg_val) + '+/-' + str(std_val)\n",
    "        count+=1\n",
    "    return df"
   ]
  },
  {
   "cell_type": "code",
   "execution_count": null,
   "metadata": {},
   "outputs": [],
   "source": [
    "rbf_model_tunned_keep = SVC(kernel='rbf', C=100, gamma=0.5)\n",
    "\n",
    "df_all = pd.DataFrame(columns = ['Train','Validation'], index = ['RBF'])\n",
    "\n",
    "show_results(df_all, keep_data_encoded, rbf_model_tunned_keep)"
   ]
  },
  {
   "cell_type": "code",
   "execution_count": null,
   "metadata": {},
   "outputs": [],
   "source": [
    "rbf_model_tunned_keep = SVC(kernel='rbf', C=200, gamma=0.5)\n",
    "\n",
    "df_all = pd.DataFrame(columns = ['Train','Validation'], index = ['RBF'])\n",
    "\n",
    "show_results(df_all, keep_data_encoded, rbf_model_tunned_keep)"
   ]
  },
  {
   "cell_type": "code",
   "execution_count": null,
   "metadata": {},
   "outputs": [],
   "source": [
    "rbf_model_tunned_all = SVC(kernel='rbf', C=10, gamma=0.5)\n",
    "\n",
    "df_all = pd.DataFrame(columns = ['Train','Validation'], index = ['RBF'])\n",
    "\n",
    "show_results(df_all, all_data_encoded, rbf_model_tunned_all)"
   ]
  },
  {
   "cell_type": "code",
   "execution_count": null,
   "metadata": {},
   "outputs": [],
   "source": [
    "rbf_model_tunned_all = SVC(kernel='rbf', C=8, gamma=0.5)\n",
    "\n",
    "df_all = pd.DataFrame(columns = ['Train','Validation'], index = ['RBF'])\n",
    "\n",
    "show_results(df_all, all_data_encoded, rbf_model_tunned_all)"
   ]
  },
  {
   "cell_type": "code",
   "execution_count": null,
   "metadata": {},
   "outputs": [],
   "source": [
    "rbf_model_tunned_all = SVC(kernel='rbf', C=7, gamma=0.5)\n",
    "\n",
    "df_all = pd.DataFrame(columns = ['Train','Validation'], index = ['RBF'])\n",
    "\n",
    "show_results(df_all, all_data_encoded, rbf_model_tunned_all)"
   ]
  },
  {
   "cell_type": "code",
   "execution_count": null,
   "metadata": {},
   "outputs": [],
   "source": [
    "rbf_model_tunned_all = SVC(kernel='rbf', C=6, gamma=0.5)\n",
    "\n",
    "df_all = pd.DataFrame(columns = ['Train','Validation'], index = ['RBF'])\n",
    "\n",
    "show_results(df_all, all_data_encoded, rbf_model_tunned_all)"
   ]
  },
  {
   "cell_type": "code",
   "execution_count": null,
   "metadata": {},
   "outputs": [],
   "source": [
    "rbf_model_tunned_all = SVC(kernel='rbf', C=5, gamma=0.5)\n",
    "\n",
    "df_all = pd.DataFrame(columns = ['Train','Validation'], index = ['RBF'])\n",
    "\n",
    "show_results(df_all, all_data_encoded, rbf_model_tunned_all)"
   ]
  },
  {
   "cell_type": "code",
   "execution_count": null,
   "metadata": {},
   "outputs": [],
   "source": [
    "rbf_model_tunned_all = SVC(kernel='rbf', C=4, gamma=0.5)\n",
    "\n",
    "df_all = pd.DataFrame(columns = ['Train','Validation'], index = ['RBF'])\n",
    "\n",
    "show_results(df_all, all_data_encoded, rbf_model_tunned_all)"
   ]
  },
  {
   "cell_type": "code",
   "execution_count": null,
   "metadata": {},
   "outputs": [],
   "source": [
    "rbf_model_tunned_all = SVC(kernel='rbf', C=3, gamma=0.5)\n",
    "\n",
    "df_all = pd.DataFrame(columns = ['Train','Validation'], index = ['RBF'])\n",
    "\n",
    "show_results(df_all, all_data_encoded, rbf_model_tunned_all)"
   ]
  },
  {
   "cell_type": "code",
   "execution_count": null,
   "metadata": {},
   "outputs": [],
   "source": [
    "rbf_model_tunned_all = SVC(kernel='rbf', C=2, gamma=0.5)\n",
    "\n",
    "df_all = pd.DataFrame(columns = ['Train','Validation'], index = ['RBF'])\n",
    "\n",
    "show_results(df_all, all_data_encoded, rbf_model_tunned_all)"
   ]
  },
  {
   "cell_type": "code",
   "execution_count": 7,
   "metadata": {},
   "outputs": [],
   "source": [
    "from sklearn.ensemble import RandomForestClassifier\n"
   ]
  },
  {
   "cell_type": "code",
   "execution_count": null,
   "metadata": {},
   "outputs": [],
   "source": [
    "rf = RandomForestClassifier()  \n",
    "\n",
    "df_all = pd.DataFrame(columns = ['Train','Validation'], index = ['rf'])\n",
    "\n",
    "show_results(df_all, all_data_encoded, rf)\n"
   ]
  },
  {
   "cell_type": "code",
   "execution_count": null,
   "metadata": {},
   "outputs": [],
   "source": [
    "rf = RandomForestClassifier(n_estimators=300, max_depth=6)  \n",
    "\n",
    "df_all = pd.DataFrame(columns = ['Train','Validation'], index = ['rf'])\n",
    "\n",
    "show_results(df_all, all_data_encoded, rf)"
   ]
  },
  {
   "cell_type": "code",
   "execution_count": null,
   "metadata": {},
   "outputs": [],
   "source": [
    "rf = RandomForestClassifier(n_estimators=300, max_depth=6, bootstrap=False)  \n",
    "\n",
    "df_all = pd.DataFrame(columns = ['Train','Validation'], index = ['rf'])\n",
    "\n",
    "show_results(df_all, all_data_encoded, rf)"
   ]
  },
  {
   "cell_type": "code",
   "execution_count": null,
   "metadata": {},
   "outputs": [],
   "source": [
    "def show_results_forest(df_all, all_data_encoded, clf):\n",
    "    X = keep_data_encoded.drop('Buy_product', axis=1)\n",
    "    y = keep_data_encoded['Buy_product'].copy()\n",
    "\n",
    "    skf = StratifiedKFold(n_splits=5, random_state=99, shuffle=True)\n",
    "\n",
    "    train_accuracies = []\n",
    "    val_accuracies = []\n",
    "\n",
    "    for train_index, val_index in skf.split(X, y):\n",
    "        X_train, X_val = X.iloc[train_index], X.iloc[val_index]\n",
    "        y_train, y_val = y.iloc[train_index], y.iloc[val_index]\n",
    "\n",
    "        clf.fit(X_train, y_train)\n",
    "\n",
    "        y_train_pred = clf.predict(X_train)\n",
    "        y_val_pred = clf.predict(X_val)\n",
    "\n",
    "        train_accuracy = accuracy_score(y_train, y_train_pred)\n",
    "        val_accuracy = accuracy_score(y_val, y_val_pred)\n",
    "\n",
    "        train_accuracies.append(train_accuracy)\n",
    "        val_accuracies.append(val_accuracy)\n",
    "\n",
    "    avg_train_accuracy = np.mean(train_accuracies)\n",
    "    avg_val_accuracy = np.mean(val_accuracies)\n",
    "\n",
    "    df_all.at['linear', 'Train'] = avg_train_accuracy\n",
    "    df_all.at['linear', 'Validation'] = avg_val_accuracy\n",
    "\n",
    "    print(f'Average Train Accuracy: {avg_train_accuracy:.2f}')\n",
    "    print(f'Average Validation Accuracy: {avg_val_accuracy:.2f}')\n",
    "    print(df_all)"
   ]
  },
  {
   "cell_type": "code",
   "execution_count": null,
   "metadata": {},
   "outputs": [],
   "source": [
    "from sklearn.metrics import accuracy_score\n"
   ]
  },
  {
   "cell_type": "code",
   "execution_count": 15,
   "metadata": {},
   "outputs": [
    {
     "name": "stdout",
     "output_type": "stream",
     "text": [
      "Average Train Accuracy: 0.90\n",
      "Average Validation Accuracy: 0.90\n",
      "           Train Validation\n",
      "linear  0.902993   0.900635\n"
     ]
    }
   ],
   "source": [
    "clf = RandomForestClassifier(n_estimators=300, max_depth=6, bootstrap=False)  \n",
    "\n",
    "\n",
    "df_all = pd.DataFrame(columns=['Train', 'Validation'], index=['linear'])\n",
    "\n",
    "show_results_forest(df_all, all_data_encoded, clf)"
   ]
  },
  {
   "cell_type": "code",
   "execution_count": 17,
   "metadata": {},
   "outputs": [],
   "source": [
    "from sklearn.model_selection import train_test_split \n",
    "from sklearn.ensemble import AdaBoostClassifier "
   ]
  },
  {
   "cell_type": "code",
   "execution_count": 16,
   "metadata": {},
   "outputs": [],
   "source": [
    "X_train, X_val, Y_train, Y_val = train_test_split( \n",
    "    X_all_svm, y_all_svm, test_size=0.25, random_state=28)"
   ]
  },
  {
   "cell_type": "code",
   "execution_count": 21,
   "metadata": {},
   "outputs": [
    {
     "name": "stdout",
     "output_type": "stream",
     "text": [
      "The accuracy of the model on validation set is 0.8886608517188301\n"
     ]
    }
   ],
   "source": [
    "adboost = AdaBoostClassifier() \n",
    "adb_model = adboost.fit(X_train,Y_train)\n",
    "\n",
    "print(\"The accuracy of the model on validation set is\", adb_model.score(X_val,Y_val))\n",
    " \n",
    "# Result:\n",
    "# The accuracy of the model on validation set is 0.8886608517188301"
   ]
  },
  {
   "cell_type": "code",
   "execution_count": 22,
   "metadata": {},
   "outputs": [
    {
     "data": {
      "text/html": [
       "<div>\n",
       "<style scoped>\n",
       "    .dataframe tbody tr th:only-of-type {\n",
       "        vertical-align: middle;\n",
       "    }\n",
       "\n",
       "    .dataframe tbody tr th {\n",
       "        vertical-align: top;\n",
       "    }\n",
       "\n",
       "    .dataframe thead th {\n",
       "        text-align: right;\n",
       "    }\n",
       "</style>\n",
       "<table border=\"1\" class=\"dataframe\">\n",
       "  <thead>\n",
       "    <tr style=\"text-align: right;\">\n",
       "      <th></th>\n",
       "      <th>Train</th>\n",
       "      <th>Validation</th>\n",
       "    </tr>\n",
       "  </thead>\n",
       "  <tbody>\n",
       "    <tr>\n",
       "      <th>rf</th>\n",
       "      <td>0.898+/-0.0</td>\n",
       "      <td>0.897+/-0.01</td>\n",
       "    </tr>\n",
       "  </tbody>\n",
       "</table>\n",
       "</div>"
      ],
      "text/plain": [
       "          Train    Validation\n",
       "rf  0.898+/-0.0  0.897+/-0.01"
      ]
     },
     "execution_count": 22,
     "metadata": {},
     "output_type": "execute_result"
    }
   ],
   "source": [
    "adboost = AdaBoostClassifier() \n",
    "\n",
    "df_all = pd.DataFrame(columns = ['Train','Validation'], index = ['rf'])\n",
    "\n",
    "show_results(df_all, all_data_encoded, adboost)\n",
    "\n",
    "# Train 0.898+/-0.0\n",
    "# Validation\t0.897+/-0.01"
   ]
  },
  {
   "cell_type": "code",
   "execution_count": 9,
   "metadata": {},
   "outputs": [],
   "source": [
    "from sklearn.ensemble import GradientBoostingClassifier"
   ]
  },
  {
   "cell_type": "code",
   "execution_count": 29,
   "metadata": {},
   "outputs": [
    {
     "data": {
      "text/html": [
       "<div>\n",
       "<style scoped>\n",
       "    .dataframe tbody tr th:only-of-type {\n",
       "        vertical-align: middle;\n",
       "    }\n",
       "\n",
       "    .dataframe tbody tr th {\n",
       "        vertical-align: top;\n",
       "    }\n",
       "\n",
       "    .dataframe thead th {\n",
       "        text-align: right;\n",
       "    }\n",
       "</style>\n",
       "<table border=\"1\" class=\"dataframe\">\n",
       "  <thead>\n",
       "    <tr style=\"text-align: right;\">\n",
       "      <th></th>\n",
       "      <th>Train</th>\n",
       "      <th>Validation</th>\n",
       "    </tr>\n",
       "  </thead>\n",
       "  <tbody>\n",
       "    <tr>\n",
       "      <th>rf</th>\n",
       "      <td>0.927+/-0.0</td>\n",
       "      <td>0.923+/-0.01</td>\n",
       "    </tr>\n",
       "  </tbody>\n",
       "</table>\n",
       "</div>"
      ],
      "text/plain": [
       "          Train    Validation\n",
       "rf  0.927+/-0.0  0.923+/-0.01"
      ]
     },
     "execution_count": 29,
     "metadata": {},
     "output_type": "execute_result"
    }
   ],
   "source": [
    "gboost = GradientBoostingClassifier()\n",
    "\n",
    "df_all = pd.DataFrame(columns = ['Train','Validation'], index = ['rf'])\n",
    "\n",
    "show_results(df_all, all_data_encoded, gboost)\n",
    "\n",
    "# Train 0.927+/-0.0\n",
    "# Validation 0.923+/-0.01"
   ]
  },
  {
   "cell_type": "code",
   "execution_count": 37,
   "metadata": {},
   "outputs": [
    {
     "data": {
      "text/html": [
       "<div>\n",
       "<style scoped>\n",
       "    .dataframe tbody tr th:only-of-type {\n",
       "        vertical-align: middle;\n",
       "    }\n",
       "\n",
       "    .dataframe tbody tr th {\n",
       "        vertical-align: top;\n",
       "    }\n",
       "\n",
       "    .dataframe thead th {\n",
       "        text-align: right;\n",
       "    }\n",
       "</style>\n",
       "<table border=\"1\" class=\"dataframe\">\n",
       "  <thead>\n",
       "    <tr style=\"text-align: right;\">\n",
       "      <th></th>\n",
       "      <th>Train</th>\n",
       "      <th>Validation</th>\n",
       "    </tr>\n",
       "  </thead>\n",
       "  <tbody>\n",
       "    <tr>\n",
       "      <th>rf</th>\n",
       "      <td>0.942+/-0.0</td>\n",
       "      <td>0.93+/-0.0</td>\n",
       "    </tr>\n",
       "  </tbody>\n",
       "</table>\n",
       "</div>"
      ],
      "text/plain": [
       "          Train  Validation\n",
       "rf  0.942+/-0.0  0.93+/-0.0"
      ]
     },
     "execution_count": 37,
     "metadata": {},
     "output_type": "execute_result"
    }
   ],
   "source": [
    "gboost = GradientBoostingClassifier(max_depth=3,\n",
    "                                    n_estimators=500,\n",
    "                                    n_iter_no_change=10,\n",
    "                                    min_samples_leaf=1,\n",
    "                                    min_samples_split=2,\n",
    "                                    learning_rate=0.1)\n",
    "\n",
    "df_all = pd.DataFrame(columns = ['Train','Validation'], index = ['rf'])\n",
    "\n",
    "show_results(df_all, all_data_encoded, gboost)\n",
    "\n",
    "# Train 0.942+/-0.0\n",
    "# Validation 0.93+/-0.0"
   ]
  },
  {
   "cell_type": "code",
   "execution_count": 113,
   "metadata": {},
   "outputs": [
    {
     "data": {
      "text/html": [
       "<div>\n",
       "<style scoped>\n",
       "    .dataframe tbody tr th:only-of-type {\n",
       "        vertical-align: middle;\n",
       "    }\n",
       "\n",
       "    .dataframe tbody tr th {\n",
       "        vertical-align: top;\n",
       "    }\n",
       "\n",
       "    .dataframe thead th {\n",
       "        text-align: right;\n",
       "    }\n",
       "</style>\n",
       "<table border=\"1\" class=\"dataframe\">\n",
       "  <thead>\n",
       "    <tr style=\"text-align: right;\">\n",
       "      <th></th>\n",
       "      <th>Train</th>\n",
       "      <th>Validation</th>\n",
       "    </tr>\n",
       "  </thead>\n",
       "  <tbody>\n",
       "    <tr>\n",
       "      <th>gboost</th>\n",
       "      <td>0.939+/-0.0</td>\n",
       "      <td>0.932+/-0.0</td>\n",
       "    </tr>\n",
       "  </tbody>\n",
       "</table>\n",
       "</div>"
      ],
      "text/plain": [
       "              Train   Validation\n",
       "gboost  0.939+/-0.0  0.932+/-0.0"
      ]
     },
     "execution_count": 113,
     "metadata": {},
     "output_type": "execute_result"
    }
   ],
   "source": [
    "gboost = GradientBoostingClassifier(max_depth=4,\n",
    "                                    n_estimators=120,\n",
    "                                    n_iter_no_change=10,\n",
    "                                    min_samples_leaf=8,\n",
    "                                    min_samples_split=110,\n",
    "                                    max_features=8,\n",
    "                                    learning_rate=0.1,\n",
    "                                    #random_state=40\n",
    "                                    )\n",
    "\n",
    "df_all = pd.DataFrame(columns = ['Train','Validation'], index = ['gboost'])\n",
    "\n",
    "show_results(df_all, all_data_encoded, gboost)\n",
    "\n",
    "# Train 0.939+/-0.0\n",
    "# Validation 0.932+/-0.0"
   ]
  },
  {
   "cell_type": "code",
   "execution_count": 56,
   "metadata": {},
   "outputs": [
    {
     "data": {
      "text/html": [
       "<div>\n",
       "<style scoped>\n",
       "    .dataframe tbody tr th:only-of-type {\n",
       "        vertical-align: middle;\n",
       "    }\n",
       "\n",
       "    .dataframe tbody tr th {\n",
       "        vertical-align: top;\n",
       "    }\n",
       "\n",
       "    .dataframe thead th {\n",
       "        text-align: right;\n",
       "    }\n",
       "</style>\n",
       "<table border=\"1\" class=\"dataframe\">\n",
       "  <thead>\n",
       "    <tr style=\"text-align: right;\">\n",
       "      <th></th>\n",
       "      <th>Train</th>\n",
       "      <th>Validation</th>\n",
       "    </tr>\n",
       "  </thead>\n",
       "  <tbody>\n",
       "    <tr>\n",
       "      <th>rf</th>\n",
       "      <td>0.938+/-0.0</td>\n",
       "      <td>0.929+/-0.01</td>\n",
       "    </tr>\n",
       "  </tbody>\n",
       "</table>\n",
       "</div>"
      ],
      "text/plain": [
       "          Train    Validation\n",
       "rf  0.938+/-0.0  0.929+/-0.01"
      ]
     },
     "execution_count": 56,
     "metadata": {},
     "output_type": "execute_result"
    }
   ],
   "source": [
    "gboost = GradientBoostingClassifier(max_depth=3,\n",
    "                                    n_estimators=320,\n",
    "                                    n_iter_no_change=15,\n",
    "                                    min_samples_leaf=1,\n",
    "                                    min_samples_split=2,\n",
    "                                    learning_rate=0.07)\n",
    "\n",
    "df_all = pd.DataFrame(columns = ['Train','Validation'], index = ['rf'])\n",
    "\n",
    "show_results(df_all, all_data_encoded, gboost)\n",
    "\n",
    "# Train 0.938+/-0.0\n",
    "# Validation 0.929+/-0.01"
   ]
  },
  {
   "cell_type": "code",
   "execution_count": 59,
   "metadata": {},
   "outputs": [
    {
     "data": {
      "text/html": [
       "<div>\n",
       "<style scoped>\n",
       "    .dataframe tbody tr th:only-of-type {\n",
       "        vertical-align: middle;\n",
       "    }\n",
       "\n",
       "    .dataframe tbody tr th {\n",
       "        vertical-align: top;\n",
       "    }\n",
       "\n",
       "    .dataframe thead th {\n",
       "        text-align: right;\n",
       "    }\n",
       "</style>\n",
       "<table border=\"1\" class=\"dataframe\">\n",
       "  <thead>\n",
       "    <tr style=\"text-align: right;\">\n",
       "      <th></th>\n",
       "      <th>Train</th>\n",
       "      <th>Validation</th>\n",
       "    </tr>\n",
       "  </thead>\n",
       "  <tbody>\n",
       "    <tr>\n",
       "      <th>rf</th>\n",
       "      <td>0.923+/-0.0</td>\n",
       "      <td>0.92+/-0.0</td>\n",
       "    </tr>\n",
       "  </tbody>\n",
       "</table>\n",
       "</div>"
      ],
      "text/plain": [
       "          Train  Validation\n",
       "rf  0.923+/-0.0  0.92+/-0.0"
      ]
     },
     "execution_count": 59,
     "metadata": {},
     "output_type": "execute_result"
    }
   ],
   "source": [
    "gboost = GradientBoostingClassifier(max_depth=3,\n",
    "                                    n_estimators=120,\n",
    "                                    n_iter_no_change=10,\n",
    "                                    min_samples_leaf=1,\n",
    "                                    min_samples_split=2,\n",
    "                                    learning_rate=0.2)\n",
    "\n",
    "df_all = pd.DataFrame(columns = ['Train','Validation'], index = ['rf'])\n",
    "\n",
    "show_results(df_all, keep_data_encoded, gboost)\n",
    "\n",
    "# Train 0.923+/-0.0\n",
    "# Validation 0.92+/-0.0"
   ]
  },
  {
   "cell_type": "markdown",
   "metadata": {},
   "source": [
    "The learning_rate hyperparameter scales the contribution of each tree. If you\n",
    "set it to a low value, such as 0.05, you will need more trees in the ensemble to\n",
    "fit the training set, but the predictions will usually generalize better. This is a\n",
    "regularization technique called shrinkage."
   ]
  },
  {
   "cell_type": "markdown",
   "metadata": {},
   "source": [
    "testing low learning_rate with high number of estimators:"
   ]
  },
  {
   "cell_type": "code",
   "execution_count": 63,
   "metadata": {},
   "outputs": [
    {
     "name": "stdout",
     "output_type": "stream",
     "text": [
      "Fitting 5 folds for each of 140 candidates, totalling 700 fits\n",
      "Best Hyperparameters:  {'learning_rate': 0.1, 'max_depth': 6, 'n_estimators': 180}\n",
      "Best Score:  0.939732330118457\n"
     ]
    }
   ],
   "source": [
    "# param_grid_gboost = {'max_depth': [2, 3, 4, 6],  \n",
    "#                 'n_estimators': [100, 140, 180, 240, 300],\n",
    "#                 'learning_rate': [0.01, 0.05, 0.1, 0.3, 0.5, 0.7, 1]}\n",
    "\n",
    "# grid_search = GridSearchCV(GradientBoostingClassifier(),\n",
    "#                         param_grid_gboost,\n",
    "#                         scoring = 'f1',\n",
    "#                         return_train_score = True,\n",
    "#                         cv = 5,\n",
    "#                         verbose=1)\n",
    "\n",
    "# grid_search.fit(X_all_svm, y_all_svm)\n",
    "\n",
    "# # Print the best hyperparameters and corresponding score\n",
    "# print(\"Best Hyperparameters: \", grid_search.best_params_)\n",
    "# print(\"Best Score: \", grid_search.best_score_)\n",
    "\n",
    "# Results:\n",
    "# Fitting 5 folds for each of 140 candidates, totalling 700 fits\n",
    "# Best Hyperparameters:  {'learning_rate': 0.1, 'max_depth': 6, 'n_estimators': 180}\n",
    "# Best Score:  0.939732330118457"
   ]
  },
  {
   "cell_type": "code",
   "execution_count": 61,
   "metadata": {},
   "outputs": [
    {
     "name": "stdout",
     "output_type": "stream",
     "text": [
      "Fitting 5 folds for each of 75 candidates, totalling 375 fits\n",
      "Best Hyperparameters:  {'learning_rate': 0.3, 'max_depth': 4, 'n_estimators': 140}\n",
      "Best Score:  0.9378758487153014\n"
     ]
    }
   ],
   "source": [
    "param_grid_gboost = {'max_depth': [2, 3, 4],  \n",
    "                'n_estimators': [100, 140, 180, 240, 300],\n",
    "                'learning_rate': [0.1, 0.3, 0.5, 0.7, 1]}\n",
    "\n",
    "grid_search = GridSearchCV(GradientBoostingClassifier(),\n",
    "                        param_grid_gboost,\n",
    "                        scoring = 'f1',\n",
    "                        return_train_score = True,\n",
    "                        cv = 5,\n",
    "                        verbose=1)\n",
    "\n",
    "grid_search.fit(X_all_svm, y_all_svm)\n",
    "\n",
    "# Print the best hyperparameters and corresponding score\n",
    "print(\"Best Hyperparameters: \", grid_search.best_params_)\n",
    "print(\"Best Score: \", grid_search.best_score_)\n",
    "\n",
    "# Results:\n",
    "# Fitting 5 folds for each of 75 candidates, totalling 375 fits\n",
    "# Best Hyperparameters:  {'learning_rate': 0.3, 'max_depth': 4, 'n_estimators': 140}\n",
    "# Best Score:  0.9378758487153014"
   ]
  },
  {
   "cell_type": "markdown",
   "metadata": {},
   "source": [
    "testing the low parameters"
   ]
  },
  {
   "cell_type": "code",
   "execution_count": 15,
   "metadata": {},
   "outputs": [
    {
     "data": {
      "text/html": [
       "<div>\n",
       "<style scoped>\n",
       "    .dataframe tbody tr th:only-of-type {\n",
       "        vertical-align: middle;\n",
       "    }\n",
       "\n",
       "    .dataframe tbody tr th {\n",
       "        vertical-align: top;\n",
       "    }\n",
       "\n",
       "    .dataframe thead th {\n",
       "        text-align: right;\n",
       "    }\n",
       "</style>\n",
       "<table border=\"1\" class=\"dataframe\">\n",
       "  <thead>\n",
       "    <tr style=\"text-align: right;\">\n",
       "      <th></th>\n",
       "      <th>Train</th>\n",
       "      <th>Validation</th>\n",
       "    </tr>\n",
       "  </thead>\n",
       "  <tbody>\n",
       "    <tr>\n",
       "      <th>gboost</th>\n",
       "      <td>0.963+/-0.0</td>\n",
       "      <td>0.933+/-0.0</td>\n",
       "    </tr>\n",
       "  </tbody>\n",
       "</table>\n",
       "</div>"
      ],
      "text/plain": [
       "              Train   Validation\n",
       "gboost  0.963+/-0.0  0.933+/-0.0"
      ]
     },
     "execution_count": 15,
     "metadata": {},
     "output_type": "execute_result"
    }
   ],
   "source": [
    "gboost = GradientBoostingClassifier(max_depth=4,\n",
    "                                    n_estimators=60,\n",
    "                                    learning_rate=0.5)\n",
    "\n",
    "df_all = pd.DataFrame(columns = ['Train','Validation'], index = ['gboost'])\n",
    "\n",
    "show_results(df_all, all_data_encoded, gboost)\n",
    "\n",
    "# Results:\n",
    "# Train 0.963+/-0.0\n",
    "# Validation 0.933+/-0.0"
   ]
  },
  {
   "cell_type": "code",
   "execution_count": 14,
   "metadata": {},
   "outputs": [
    {
     "data": {
      "text/html": [
       "<div>\n",
       "<style scoped>\n",
       "    .dataframe tbody tr th:only-of-type {\n",
       "        vertical-align: middle;\n",
       "    }\n",
       "\n",
       "    .dataframe tbody tr th {\n",
       "        vertical-align: top;\n",
       "    }\n",
       "\n",
       "    .dataframe thead th {\n",
       "        text-align: right;\n",
       "    }\n",
       "</style>\n",
       "<table border=\"1\" class=\"dataframe\">\n",
       "  <thead>\n",
       "    <tr style=\"text-align: right;\">\n",
       "      <th></th>\n",
       "      <th>Train</th>\n",
       "      <th>Validation</th>\n",
       "    </tr>\n",
       "  </thead>\n",
       "  <tbody>\n",
       "    <tr>\n",
       "      <th>gboost</th>\n",
       "      <td>0.964+/-0.0</td>\n",
       "      <td>0.938+/-0.0</td>\n",
       "    </tr>\n",
       "  </tbody>\n",
       "</table>\n",
       "</div>"
      ],
      "text/plain": [
       "              Train   Validation\n",
       "gboost  0.964+/-0.0  0.938+/-0.0"
      ]
     },
     "execution_count": 14,
     "metadata": {},
     "output_type": "execute_result"
    }
   ],
   "source": [
    "gboost = GradientBoostingClassifier(max_depth=6,\n",
    "                                    n_estimators=180,\n",
    "                                    n_iter_no_change=8,\n",
    "                                    min_samples_split=15,\n",
    "                                    min_samples_leaf=15,\n",
    "                                    learning_rate=0.1,\n",
    "                                    random_state=40)\n",
    "\n",
    "df_all = pd.DataFrame(columns = ['Train','Validation'], index = ['gboost'])\n",
    "\n",
    "show_results(df_all, all_data_encoded, gboost)\n",
    "\n",
    "# Results:\n",
    "# Train 0.983+/-0.0\n",
    "# Validation 0.94+/-0.0"
   ]
  },
  {
   "cell_type": "code",
   "execution_count": 19,
   "metadata": {},
   "outputs": [
    {
     "data": {
      "text/html": [
       "<div>\n",
       "<style scoped>\n",
       "    .dataframe tbody tr th:only-of-type {\n",
       "        vertical-align: middle;\n",
       "    }\n",
       "\n",
       "    .dataframe tbody tr th {\n",
       "        vertical-align: top;\n",
       "    }\n",
       "\n",
       "    .dataframe thead th {\n",
       "        text-align: right;\n",
       "    }\n",
       "</style>\n",
       "<table border=\"1\" class=\"dataframe\">\n",
       "  <thead>\n",
       "    <tr style=\"text-align: right;\">\n",
       "      <th></th>\n",
       "      <th>Train</th>\n",
       "      <th>Validation</th>\n",
       "    </tr>\n",
       "  </thead>\n",
       "  <tbody>\n",
       "    <tr>\n",
       "      <th>gboost</th>\n",
       "      <td>0.971+/-0.0</td>\n",
       "      <td>0.937+/-0.0</td>\n",
       "    </tr>\n",
       "  </tbody>\n",
       "</table>\n",
       "</div>"
      ],
      "text/plain": [
       "              Train   Validation\n",
       "gboost  0.971+/-0.0  0.937+/-0.0"
      ]
     },
     "execution_count": 19,
     "metadata": {},
     "output_type": "execute_result"
    }
   ],
   "source": [
    "gboost = GradientBoostingClassifier(max_depth=6,\n",
    "                                    n_estimators=180,\n",
    "                                    n_iter_no_change=8,\n",
    "                                    min_samples_split=15,\n",
    "                                    min_samples_leaf=15,\n",
    "                                    learning_rate=0.1,\n",
    "                                    random_state=40)\n",
    "\n",
    "df_all = pd.DataFrame(columns = ['Train','Validation'], index = ['gboost'])\n",
    "\n",
    "show_results(df_all, all_data_encoded, gboost)\n",
    "\n",
    "# Results:\n",
    "# Train 0.983+/-0.0\n",
    "# Validation 0.94+/-0.0"
   ]
  },
  {
   "cell_type": "code",
   "execution_count": 27,
   "metadata": {},
   "outputs": [
    {
     "data": {
      "text/html": [
       "<div>\n",
       "<style scoped>\n",
       "    .dataframe tbody tr th:only-of-type {\n",
       "        vertical-align: middle;\n",
       "    }\n",
       "\n",
       "    .dataframe tbody tr th {\n",
       "        vertical-align: top;\n",
       "    }\n",
       "\n",
       "    .dataframe thead th {\n",
       "        text-align: right;\n",
       "    }\n",
       "</style>\n",
       "<table border=\"1\" class=\"dataframe\">\n",
       "  <thead>\n",
       "    <tr style=\"text-align: right;\">\n",
       "      <th></th>\n",
       "      <th>Train</th>\n",
       "      <th>Validation</th>\n",
       "    </tr>\n",
       "  </thead>\n",
       "  <tbody>\n",
       "    <tr>\n",
       "      <th>gboost</th>\n",
       "      <td>0.97+/-0.0</td>\n",
       "      <td>0.938+/-0.0</td>\n",
       "    </tr>\n",
       "  </tbody>\n",
       "</table>\n",
       "</div>"
      ],
      "text/plain": [
       "             Train   Validation\n",
       "gboost  0.97+/-0.0  0.938+/-0.0"
      ]
     },
     "execution_count": 27,
     "metadata": {},
     "output_type": "execute_result"
    }
   ],
   "source": [
    "gboost = GradientBoostingClassifier(max_depth=6,\n",
    "                                    min_samples_split=15,\n",
    "                                    min_samples_leaf=15,\n",
    "                                    n_iter_no_change=10,\n",
    "                                    n_estimators=180,\n",
    "                                    learning_rate=0.1,\n",
    "                                    random_state=40)\n",
    "\n",
    "df_all = pd.DataFrame(columns = ['Train','Validation'], index = ['gboost'])\n",
    "\n",
    "show_results(df_all, all_data_encoded, gboost)\n"
   ]
  },
  {
   "cell_type": "code",
   "execution_count": 10,
   "metadata": {},
   "outputs": [
    {
     "data": {
      "text/html": [
       "<div>\n",
       "<style scoped>\n",
       "    .dataframe tbody tr th:only-of-type {\n",
       "        vertical-align: middle;\n",
       "    }\n",
       "\n",
       "    .dataframe tbody tr th {\n",
       "        vertical-align: top;\n",
       "    }\n",
       "\n",
       "    .dataframe thead th {\n",
       "        text-align: right;\n",
       "    }\n",
       "</style>\n",
       "<table border=\"1\" class=\"dataframe\">\n",
       "  <thead>\n",
       "    <tr style=\"text-align: right;\">\n",
       "      <th></th>\n",
       "      <th>Train</th>\n",
       "      <th>Validation</th>\n",
       "    </tr>\n",
       "  </thead>\n",
       "  <tbody>\n",
       "    <tr>\n",
       "      <th>gboost</th>\n",
       "      <td>0.935+/-0.0</td>\n",
       "      <td>0.924+/-0.0</td>\n",
       "    </tr>\n",
       "  </tbody>\n",
       "</table>\n",
       "</div>"
      ],
      "text/plain": [
       "              Train   Validation\n",
       "gboost  0.935+/-0.0  0.924+/-0.0"
      ]
     },
     "execution_count": 10,
     "metadata": {},
     "output_type": "execute_result"
    }
   ],
   "source": [
    "gboost = GradientBoostingClassifier(max_depth=6,\n",
    "                                    min_samples_split=16,\n",
    "                                    min_samples_leaf=6,\n",
    "                                    n_iter_no_change=8,\n",
    "                                    n_estimators=180,\n",
    "                                    learning_rate=0.1,\n",
    "                                    max_features=7,\n",
    "                                    random_state=40)\n",
    "\n",
    "df_all = pd.DataFrame(columns = ['Train','Validation'], index = ['gboost'])\n",
    "\n",
    "show_results(df_all, keep_data_encoded, gboost)\n",
    "\n",
    "# Results:\n",
    "# Train 0.97+/-0.0\n",
    "# Validation 0.938+/-0.0"
   ]
  },
  {
   "cell_type": "code",
   "execution_count": 37,
   "metadata": {},
   "outputs": [
    {
     "name": "stdout",
     "output_type": "stream",
     "text": [
      "Fitting 5 folds for each of 250 candidates, totalling 1250 fits\n",
      "Best Hyperparameters:  {'learning_rate': 0.1, 'max_depth': 6, 'max_features': 7, 'min_samples_leaf': 6, 'min_samples_split': 16, 'n_estimators': 180}\n",
      "Best Score:  0.9408123504690303\n"
     ]
    }
   ],
   "source": [
    "# param_grid_gboost = {'max_depth': [5, 6],  \n",
    "#                 'n_estimators': [180],\n",
    "#                 'learning_rate': [0.1],\n",
    "#                 'min_samples_split':[4, 6, 10, 16, 25],\n",
    "#                 'min_samples_leaf':[4, 6, 10, 16, 25],\n",
    "#                 'max_features':[3, 4, 5, 6, 7]                \n",
    "#                 }\n",
    "\n",
    "# grid_search = GridSearchCV(GradientBoostingClassifier(),\n",
    "#                         param_grid_gboost,\n",
    "#                         scoring = 'f1',\n",
    "#                         return_train_score = True,\n",
    "#                         cv = 5,\n",
    "#                         verbose=1,\n",
    "#                         n_jobs=-1)\n",
    "\n",
    "# grid_search.fit(X_all_svm, y_all_svm)\n",
    "\n",
    "# # Print the best hyperparameters and corresponding score\n",
    "# print(\"Best Hyperparameters: \", grid_search.best_params_)\n",
    "# print(\"Best Score: \", grid_search.best_score_)\n",
    "\n",
    "# Fitting 5 folds for each of 250 candidates, totalling 1250 fits\n",
    "# Best Hyperparameters:  {'learning_rate': 0.1, 'max_depth': 6, 'max_features': 7, 'min_samples_leaf': 6, 'min_samples_split': 16, 'n_estimators': 180}\n",
    "# Best Score:  0.9408123504690303"
   ]
  },
  {
   "cell_type": "code",
   "execution_count": 62,
   "metadata": {},
   "outputs": [
    {
     "name": "stdout",
     "output_type": "stream",
     "text": [
      "Fitting 5 folds for each of 75 candidates, totalling 375 fits\n",
      "Best Hyperparameters:  {'learning_rate': 0.5, 'max_depth': 4, 'n_estimators': 60}\n",
      "Best Score:  0.9357856025478292\n"
     ]
    }
   ],
   "source": [
    "\n",
    "param_grid_gboost = {'max_depth': [2, 3, 4],  \n",
    "                'n_estimators': [20, 40, 60, 100, 250],\n",
    "                'learning_rate': [0.5, 1, 1.5, 2, 4]}\n",
    "\n",
    "grid_search = GridSearchCV(GradientBoostingClassifier(),\n",
    "                        param_grid_gboost,\n",
    "                        scoring = 'f1',\n",
    "                        return_train_score = True,\n",
    "                        cv = 5,\n",
    "                        verbose=1)\n",
    "\n",
    "grid_search.fit(X_all_svm, y_all_svm)\n",
    "\n",
    "# Print the best hyperparameters and corresponding score\n",
    "print(\"Best Hyperparameters: \", grid_search.best_params_)\n",
    "print(\"Best Score: \", grid_search.best_score_)\n",
    "\n",
    "# Results:\n",
    "# Fitting 5 folds for each of 75 candidates, totalling 375 fits\n",
    "# Best Hyperparameters:  {'learning_rate': 0.5, 'max_depth': 4, 'n_estimators': 60}\n",
    "# Best Score:  0.9357856025478292"
   ]
  },
  {
   "cell_type": "code",
   "execution_count": 11,
   "metadata": {},
   "outputs": [],
   "source": [
    "from sklearn.ensemble import StackingClassifier\n",
    "from sklearn.svm import SVC\n",
    "from sklearn.ensemble import RandomForestClassifier\n",
    "from sklearn.ensemble import GradientBoostingClassifier"
   ]
  },
  {
   "cell_type": "code",
   "execution_count": 56,
   "metadata": {},
   "outputs": [],
   "source": [
    "stacking_clf = StackingClassifier(\n",
    "        estimators=[\n",
    "            ('GBoost', GradientBoostingClassifier(\n",
    "                                    max_depth=3,\n",
    "                                    n_estimators=120,\n",
    "                                    n_iter_no_change=10,\n",
    "                                    min_samples_leaf=1,\n",
    "                                    min_samples_split=2,\n",
    "                                    learning_rate=0.2)),\n",
    "            ('SVC', SVC(\n",
    "                    kernel='rbf',\n",
    "                    C=0.3,\n",
    "                    gamma=5))],\n",
    "        final_estimator=SVC(\n",
    "                    kernel='rbf',\n",
    "                    C=0.3,\n",
    "                    gamma=5),\n",
    "        cv=5,\n",
    "        verbose=1,\n",
    "        n_jobs=-1\n",
    "        )\n",
    "\n",
    "#stacking_clf.fit(X_all_svm, y_all_svm)"
   ]
  },
  {
   "cell_type": "code",
   "execution_count": 17,
   "metadata": {},
   "outputs": [
    {
     "data": {
      "text/html": [
       "<div>\n",
       "<style scoped>\n",
       "    .dataframe tbody tr th:only-of-type {\n",
       "        vertical-align: middle;\n",
       "    }\n",
       "\n",
       "    .dataframe tbody tr th {\n",
       "        vertical-align: top;\n",
       "    }\n",
       "\n",
       "    .dataframe thead th {\n",
       "        text-align: right;\n",
       "    }\n",
       "</style>\n",
       "<table border=\"1\" class=\"dataframe\">\n",
       "  <thead>\n",
       "    <tr style=\"text-align: right;\">\n",
       "      <th></th>\n",
       "      <th>Train</th>\n",
       "      <th>Validation</th>\n",
       "    </tr>\n",
       "  </thead>\n",
       "  <tbody>\n",
       "    <tr>\n",
       "      <th>stack</th>\n",
       "      <td>0.949+/-0.0</td>\n",
       "      <td>0.93+/-0.01</td>\n",
       "    </tr>\n",
       "  </tbody>\n",
       "</table>\n",
       "</div>"
      ],
      "text/plain": [
       "             Train   Validation\n",
       "stack  0.949+/-0.0  0.93+/-0.01"
      ]
     },
     "execution_count": 17,
     "metadata": {},
     "output_type": "execute_result"
    }
   ],
   "source": [
    "df_all = pd.DataFrame(columns = ['Train','Validation'], index = ['stack'])\n",
    "\n",
    "show_results(df_all, all_data_encoded, stacking_clf)"
   ]
  },
  {
   "cell_type": "code",
   "execution_count": 55,
   "metadata": {},
   "outputs": [
    {
     "data": {
      "text/html": [
       "<div>\n",
       "<style scoped>\n",
       "    .dataframe tbody tr th:only-of-type {\n",
       "        vertical-align: middle;\n",
       "    }\n",
       "\n",
       "    .dataframe tbody tr th {\n",
       "        vertical-align: top;\n",
       "    }\n",
       "\n",
       "    .dataframe thead th {\n",
       "        text-align: right;\n",
       "    }\n",
       "</style>\n",
       "<table border=\"1\" class=\"dataframe\">\n",
       "  <thead>\n",
       "    <tr style=\"text-align: right;\">\n",
       "      <th></th>\n",
       "      <th>Train</th>\n",
       "      <th>Validation</th>\n",
       "    </tr>\n",
       "  </thead>\n",
       "  <tbody>\n",
       "    <tr>\n",
       "      <th>stack</th>\n",
       "      <td>0.946+/-0.0</td>\n",
       "      <td>0.932+/-0.0</td>\n",
       "    </tr>\n",
       "  </tbody>\n",
       "</table>\n",
       "</div>"
      ],
      "text/plain": [
       "             Train   Validation\n",
       "stack  0.946+/-0.0  0.932+/-0.0"
      ]
     },
     "execution_count": 55,
     "metadata": {},
     "output_type": "execute_result"
    }
   ],
   "source": [
    "df_all = pd.DataFrame(columns = ['Train','Validation'], index = ['stack'])\n",
    "\n",
    "show_results(df_all, all_data_encoded, stacking_clf)"
   ]
  },
  {
   "cell_type": "code",
   "execution_count": 57,
   "metadata": {},
   "outputs": [
    {
     "data": {
      "text/html": [
       "<div>\n",
       "<style scoped>\n",
       "    .dataframe tbody tr th:only-of-type {\n",
       "        vertical-align: middle;\n",
       "    }\n",
       "\n",
       "    .dataframe tbody tr th {\n",
       "        vertical-align: top;\n",
       "    }\n",
       "\n",
       "    .dataframe thead th {\n",
       "        text-align: right;\n",
       "    }\n",
       "</style>\n",
       "<table border=\"1\" class=\"dataframe\">\n",
       "  <thead>\n",
       "    <tr style=\"text-align: right;\">\n",
       "      <th></th>\n",
       "      <th>Train</th>\n",
       "      <th>Validation</th>\n",
       "    </tr>\n",
       "  </thead>\n",
       "  <tbody>\n",
       "    <tr>\n",
       "      <th>stack</th>\n",
       "      <td>0.949+/-0.0</td>\n",
       "      <td>0.933+/-0.01</td>\n",
       "    </tr>\n",
       "  </tbody>\n",
       "</table>\n",
       "</div>"
      ],
      "text/plain": [
       "             Train    Validation\n",
       "stack  0.949+/-0.0  0.933+/-0.01"
      ]
     },
     "execution_count": 57,
     "metadata": {},
     "output_type": "execute_result"
    }
   ],
   "source": [
    "df_all = pd.DataFrame(columns = ['Train','Validation'], index = ['stack'])\n",
    "\n",
    "show_results(df_all, all_data_encoded, stacking_clf)"
   ]
  },
  {
   "cell_type": "code",
   "execution_count": 9,
   "metadata": {},
   "outputs": [],
   "source": [
    "import matplotlib.pyplot as plt\n",
    "from sklearn.decomposition import PCA"
   ]
  },
  {
   "cell_type": "code",
   "execution_count": 28,
   "metadata": {},
   "outputs": [],
   "source": [
    "final_model_gboost = GradientBoostingClassifier(max_depth=4,\n",
    "                                    n_estimators=120,\n",
    "                                    n_iter_no_change=10,\n",
    "                                    min_samples_leaf=8,\n",
    "                                    min_samples_split=110,\n",
    "                                    max_features=8,\n",
    "                                    learning_rate=0.1,\n",
    "                                    )\n",
    "final_model_svm = SVC(kernel='rbf', C=3, gamma=0.5, probability=True)"
   ]
  },
  {
   "cell_type": "code",
   "execution_count": 7,
   "metadata": {},
   "outputs": [],
   "source": [
    "x_data = all_data_encoded.drop(columns=\"Buy_product\").copy()\n",
    "y_data = all_data_encoded[\"Buy_product\"].copy()"
   ]
  },
  {
   "cell_type": "code",
   "execution_count": 10,
   "metadata": {},
   "outputs": [
    {
     "ename": "NameError",
     "evalue": "name 'train_test_split' is not defined",
     "output_type": "error",
     "traceback": [
      "\u001b[1;31m---------------------------------------------------------------------------\u001b[0m",
      "\u001b[1;31mNameError\u001b[0m                                 Traceback (most recent call last)",
      "Cell \u001b[1;32mIn[10], line 1\u001b[0m\n\u001b[1;32m----> 1\u001b[0m X_train, X_val, y_train, y_val \u001b[38;5;241m=\u001b[39m \u001b[43mtrain_test_split\u001b[49m(x_data, y_data,\n\u001b[0;32m      2\u001b[0m                                                   train_size \u001b[38;5;241m=\u001b[39m \u001b[38;5;241m0.8\u001b[39m,\n\u001b[0;32m      3\u001b[0m                                                   random_state \u001b[38;5;241m=\u001b[39m \u001b[38;5;241m99\u001b[39m,\n\u001b[0;32m      4\u001b[0m                                                   stratify \u001b[38;5;241m=\u001b[39m y_data)\n\u001b[0;32m      6\u001b[0m scaler \u001b[38;5;241m=\u001b[39m MinMaxScaler()\u001b[38;5;241m.\u001b[39mfit(X_train)\n\u001b[0;32m      7\u001b[0m X_train \u001b[38;5;241m=\u001b[39m scaler\u001b[38;5;241m.\u001b[39mtransform(X_train)\n",
      "\u001b[1;31mNameError\u001b[0m: name 'train_test_split' is not defined"
     ]
    }
   ],
   "source": [
    "X_train, X_val, y_train, y_val = train_test_split(x_data, y_data,\n",
    "                                                  train_size = 0.8,\n",
    "                                                  random_state = 99,\n",
    "                                                  stratify = y_data)\n",
    "\n",
    "scaler = MinMaxScaler().fit(X_train)\n",
    "X_train = scaler.transform(X_train)\n",
    "X_val = scaler.transform(X_val)\n",
    "\n",
    "\n",
    "model_gboost = final_model_gboost.fit(X_train, y_train)\n",
    "model_svm = final_model_svm.fit(X_train, y_train)\n",
    "\n"
   ]
  },
  {
   "cell_type": "code",
   "execution_count": 31,
   "metadata": {},
   "outputs": [],
   "source": [
    "prob_modelGBOOST = model_gboost.predict_proba(X_val)\n",
    "prob_modelSVM =  model_svm.predict_proba(X_val)\n"
   ]
  },
  {
   "cell_type": "code",
   "execution_count": 13,
   "metadata": {},
   "outputs": [],
   "source": [
    "from sklearn.metrics import roc_curve, roc_auc_score"
   ]
  },
  {
   "cell_type": "code",
   "execution_count": 34,
   "metadata": {},
   "outputs": [],
   "source": [
    "fpr_modelGBOOST, tpr_modelGBOOST, thresholds_modelGBOOST = roc_curve(y_true = y_val, y_score = prob_modelGBOOST[:,1])\n",
    "fpr_modelSVM, tpr_modelSVM, thresholds_modelSVM = roc_curve(y_val, prob_modelSVM[:,1])\n"
   ]
  },
  {
   "cell_type": "code",
   "execution_count": 35,
   "metadata": {},
   "outputs": [
    {
     "data": {
      "image/png": "[encoded data removed]",
      "text/plain": [
       "<Figure size 640x480 with 1 Axes>"
      ]
     },
     "metadata": {},
     "output_type": "display_data"
    }
   ],
   "source": [
    "plt.plot(fpr_modelGBOOST, tpr_modelGBOOST,label=\"ROC Curve KNN\")\n",
    "plt.plot(fpr_modelSVM, tpr_modelSVM, label=\"ROC Curve DT\")\n",
    "plt.xlabel('FPR')\n",
    "plt.ylabel('TPR')\n",
    "plt.legend()\n",
    "plt.show()"
   ]
  },
  {
   "cell_type": "code",
   "execution_count": 37,
   "metadata": {},
   "outputs": [
    {
     "name": "stdout",
     "output_type": "stream",
     "text": [
      "0.9823071743226388\n",
      "0.9772203314491945\n"
     ]
    }
   ],
   "source": [
    "roc_auc_modelGBOOST = roc_auc_score(y_val, prob_modelGBOOST[:, 1])\n",
    "roc_auc_modelSVM = roc_auc_score(y_val, prob_modelSVM[:, 1])\n",
    "print(roc_auc_modelGBOOST )\n",
    "print(roc_auc_modelSVM)\n",
    "\n"
   ]
  },
  {
   "cell_type": "code",
   "execution_count": 12,
   "metadata": {},
   "outputs": [],
   "source": [
    "from sklearn.metrics import precision_recall_curve"
   ]
  },
  {
   "cell_type": "code",
   "execution_count": 79,
   "metadata": {},
   "outputs": [],
   "source": [
    "final_model = final_model_gboost.fit(X_train, y_train)"
   ]
  },
  {
   "cell_type": "code",
   "execution_count": 80,
   "metadata": {},
   "outputs": [],
   "source": [
    "predict_proba = final_model.predict_proba(X_val)\n"
   ]
  },
  {
   "cell_type": "code",
   "execution_count": 81,
   "metadata": {},
   "outputs": [
    {
     "name": "stdout",
     "output_type": "stream",
     "text": [
      "Best Threshold=0.394843, F-Score=0.935\n"
     ]
    },
    {
     "data": {
      "image/png": "[encoded data removed]",
      "text/plain": [
       "<Figure size 640x480 with 1 Axes>"
      ]
     },
     "metadata": {},
     "output_type": "display_data"
    }
   ],
   "source": [
    "precision, recall, thresholds = precision_recall_curve(y_val, predict_proba[:,1])\n",
    "\n",
    "# Compute F1 score, avoid division by zero\n",
    "fscore = np.where((precision + recall) > 0, (2 * precision * recall) / (precision + recall), 0)\n",
    "# locate the index of the largest f score\n",
    "ix = np.argmax(fscore)\n",
    "print('Best Threshold=%f, F-Score=%.3f' % (thresholds[ix], fscore[ix]))\n",
    "\n",
    "plt.plot(recall, precision, marker='.', label='Gradient BoostingT')\n",
    "plt.scatter(recall[ix], precision[ix], marker='o', color='black', label='Best')\n",
    "plt.xlabel('Recall')\n",
    "plt.ylabel('Precision')\n",
    "plt.legend()\n",
    "plt.show()"
   ]
  },
  {
   "cell_type": "code",
   "execution_count": null,
   "metadata": {},
   "outputs": [],
   "source": [
    "# Gradient Boosting (OK)\n",
    "final_model_gboost = GradientBoostingClassifier(max_depth=4,\n",
    "                                    n_estimators=120,\n",
    "                                    n_iter_no_change=10,\n",
    "                                    min_samples_leaf=8,\n",
    "                                    min_samples_split=110,\n",
    "                                    max_features=8,\n",
    "                                    learning_rate=0.1,\n",
    "                                    )\n",
    "\n",
    "# SVM (OK)\n",
    "final_model_svm = SVC(kernel='rbf', C=3, gamma=0.5, probability=True)\n",
    "\n",
    "#DT (ok)\n",
    "final_model_dt_2 = DecisionTreeClassifier(splitter='best',\n",
    "    min_samples_split=10,\n",
    "    min_samples_leaf=1,\n",
    "    min_impurity_decrease=0.0,\n",
    "    max_leaf_nodes=None,\n",
    "    max_features=None,\n",
    "    max_depth=9,\n",
    "    criterion='gini',\n",
    "    ccp_alpha=0.0,\n",
    "    random_state=99\n",
    ")\n",
    "\n",
    "#Random Forest (OK)\n",
    "model_RF_final = RandomForestClassifier(n_estimators=300, max_depth=6)\n",
    "\n",
    "#KNN (OK)\n",
    "model_KNN_tuned_kd = KNeighborsClassifier(n_neighbors=7, weights= 'uniform', algorithm= 'auto', p=1)\n",
    "\n",
    "#NN (OK)\n",
    "model_NN_final = MLPClassifier(hidden_layer_sizes = 20, max_iter = 2000, random_state = 99)"
   ]
  }
 ],
 "metadata": {
  "kernelspec": {
   "display_name": "conda_nova",
   "language": "python",
   "name": "python3"
  },
  "language_info": {
   "codemirror_mode": {
    "name": "ipython",
    "version": 3
   },
   "file_extension": ".py",
   "mimetype": "text/x-python",
   "name": "python",
   "nbconvert_exporter": "python",
   "pygments_lexer": "ipython3",
   "version": "3.11.5"
  }
 },
 "nbformat": 4,
 "nbformat_minor": 2
}
